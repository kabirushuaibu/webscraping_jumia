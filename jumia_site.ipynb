{
 "cells": [
  {
   "cell_type": "code",
   "execution_count": 12,
   "id": "a079ccac-2a83-4594-b80d-f61c2131495a",
   "metadata": {},
   "outputs": [],
   "source": [
    "from bs4 import BeautifulSoup\n",
    "import requests\n",
    "from csv import writer\n",
    "import pandas as pd"
   ]
  },
  {
   "cell_type": "code",
   "execution_count": 13,
   "id": "63a2ccf5-1b9d-45e1-a2d1-70ab78b72de5",
   "metadata": {},
   "outputs": [],
   "source": [
    "url = \"https://www.jumia.com.ng/kids-fashion/\"\n",
    "\n",
    "page = requests.get(url)\n",
    "\n",
    "soup = BeautifulSoup(page.content, 'html.parser')"
   ]
  },
  {
   "cell_type": "code",
   "execution_count": 14,
   "id": "a5641ff6-e7fd-497e-95e9-f2765b96a10c",
   "metadata": {},
   "outputs": [],
   "source": [
    "all_data = []\n",
    "for article in soup.select(\"article.prd\"):\n",
    "    brand_name = article.find(class_=\"name\").text\n",
    "    former_price = article.find(\"div\", class_=\"prc\").get (\"data-oprc\")\n",
    "    present_price = article.find(\"div\", class_=\"prc\").text\n",
    "    \n",
    "    discount = article.find(\"div\", class_=\"_dsct\")\n",
    "    discount = ( \n",
    "        discount.text if discount else \"N/A\"\n",
    "    )\n",
    "    \n",
    "    info = [brand_name, former_price, present_price, discount]\n",
    "    all_data.append(info)\n",
    "\n",
    "df = pd.DataFrame(all_data, columns = [\"brand_name\", \"former_price\", \"present_price\", \"discount\"])\n",
    "                           "
   ]
  },
  {
   "cell_type": "code",
   "execution_count": 15,
   "id": "caaaf2bb-47ab-4cda-b954-e5b8585d00df",
   "metadata": {},
   "outputs": [
    {
     "data": {
      "text/html": [
       "<div>\n",
       "<style scoped>\n",
       "    .dataframe tbody tr th:only-of-type {\n",
       "        vertical-align: middle;\n",
       "    }\n",
       "\n",
       "    .dataframe tbody tr th {\n",
       "        vertical-align: top;\n",
       "    }\n",
       "\n",
       "    .dataframe thead th {\n",
       "        text-align: right;\n",
       "    }\n",
       "</style>\n",
       "<table border=\"1\" class=\"dataframe\">\n",
       "  <thead>\n",
       "    <tr style=\"text-align: right;\">\n",
       "      <th></th>\n",
       "      <th>brand_name</th>\n",
       "      <th>former_price</th>\n",
       "      <th>present_price</th>\n",
       "      <th>discount</th>\n",
       "    </tr>\n",
       "  </thead>\n",
       "  <tbody>\n",
       "    <tr>\n",
       "      <th>0</th>\n",
       "      <td>Defacto Girl Regular Fit Long Sleeve Woven Dre...</td>\n",
       "      <td>₦ 6,996</td>\n",
       "      <td>₦ 2,624</td>\n",
       "      <td>62%</td>\n",
       "    </tr>\n",
       "    <tr>\n",
       "      <th>1</th>\n",
       "      <td>Defacto Girl Woven Dress - Multi</td>\n",
       "      <td>₦ 14,575</td>\n",
       "      <td>₦ 7,288</td>\n",
       "      <td>50%</td>\n",
       "    </tr>\n",
       "    <tr>\n",
       "      <th>2</th>\n",
       "      <td>ADIDAS CORE SNEAKERS KIDS GRAND COURT K</td>\n",
       "      <td>₦ 48,799</td>\n",
       "      <td>₦ 39,039</td>\n",
       "      <td>20%</td>\n",
       "    </tr>\n",
       "    <tr>\n",
       "      <th>3</th>\n",
       "      <td>Danami Spider-Man Children Hoodie- Green</td>\n",
       "      <td>₦ 5,999</td>\n",
       "      <td>₦ 5,900</td>\n",
       "      <td>2%</td>\n",
       "    </tr>\n",
       "    <tr>\n",
       "      <th>4</th>\n",
       "      <td>Infant Baby Boys Girls Clothes Sets-cartoon</td>\n",
       "      <td>₦ 8,386</td>\n",
       "      <td>₦ 4,399</td>\n",
       "      <td>48%</td>\n",
       "    </tr>\n",
       "    <tr>\n",
       "      <th>5</th>\n",
       "      <td>Glowing Shoes For Boys And Girls-Blue</td>\n",
       "      <td>₦ 13,660</td>\n",
       "      <td>₦ 6,690 - ₦ 7,309</td>\n",
       "      <td>51%</td>\n",
       "    </tr>\n",
       "    <tr>\n",
       "      <th>6</th>\n",
       "      <td>ADIDAS CORE SNEAKERS KIDS GRAND COURT K</td>\n",
       "      <td>₦ 48,799</td>\n",
       "      <td>₦ 39,039</td>\n",
       "      <td>20%</td>\n",
       "    </tr>\n",
       "    <tr>\n",
       "      <th>7</th>\n",
       "      <td>ADIDAS ORIGINALS SNEAKERS KIDS SUPERSTAR I</td>\n",
       "      <td>₦ 61,109</td>\n",
       "      <td>₦ 30,559</td>\n",
       "      <td>50%</td>\n",
       "    </tr>\n",
       "    <tr>\n",
       "      <th>8</th>\n",
       "      <td>ADIDAS SPORTS PERFORMANCE SLIDES ADILETTE SAND...</td>\n",
       "      <td>₦ 31,639</td>\n",
       "      <td>₦ 25,319</td>\n",
       "      <td>20%</td>\n",
       "    </tr>\n",
       "    <tr>\n",
       "      <th>9</th>\n",
       "      <td>Danami Children's Zip Up Hoodie- Chocolate Brown</td>\n",
       "      <td>None</td>\n",
       "      <td>₦ 5,500</td>\n",
       "      <td>N/A</td>\n",
       "    </tr>\n",
       "  </tbody>\n",
       "</table>\n",
       "</div>"
      ],
      "text/plain": [
       "                                          brand_name former_price  \\\n",
       "0  Defacto Girl Regular Fit Long Sleeve Woven Dre...      ₦ 6,996   \n",
       "1                   Defacto Girl Woven Dress - Multi     ₦ 14,575   \n",
       "2            ADIDAS CORE SNEAKERS KIDS GRAND COURT K     ₦ 48,799   \n",
       "3           Danami Spider-Man Children Hoodie- Green      ₦ 5,999   \n",
       "4        Infant Baby Boys Girls Clothes Sets-cartoon      ₦ 8,386   \n",
       "5              Glowing Shoes For Boys And Girls-Blue     ₦ 13,660   \n",
       "6            ADIDAS CORE SNEAKERS KIDS GRAND COURT K     ₦ 48,799   \n",
       "7         ADIDAS ORIGINALS SNEAKERS KIDS SUPERSTAR I     ₦ 61,109   \n",
       "8  ADIDAS SPORTS PERFORMANCE SLIDES ADILETTE SAND...     ₦ 31,639   \n",
       "9   Danami Children's Zip Up Hoodie- Chocolate Brown         None   \n",
       "\n",
       "       present_price discount  \n",
       "0            ₦ 2,624      62%  \n",
       "1            ₦ 7,288      50%  \n",
       "2           ₦ 39,039      20%  \n",
       "3            ₦ 5,900       2%  \n",
       "4            ₦ 4,399      48%  \n",
       "5  ₦ 6,690 - ₦ 7,309      51%  \n",
       "6           ₦ 39,039      20%  \n",
       "7           ₦ 30,559      50%  \n",
       "8           ₦ 25,319      20%  \n",
       "9            ₦ 5,500      N/A  "
      ]
     },
     "execution_count": 15,
     "metadata": {},
     "output_type": "execute_result"
    }
   ],
   "source": [
    "df.head(10)"
   ]
  },
  {
   "cell_type": "code",
   "execution_count": 16,
   "id": "25190662-0ec5-46dd-bcc8-8028617960b6",
   "metadata": {},
   "outputs": [],
   "source": [
    "df.to_csv(\"Jumia_test1.csv\", index=False)"
   ]
  },
  {
   "cell_type": "code",
   "execution_count": 17,
   "id": "94fbe7a9-2e18-43a3-8b16-df485c6bf1cc",
   "metadata": {},
   "outputs": [],
   "source": [
    "#df[\"former_price\"] = df[\"former_price\"].str.replace(r'\\W',\"\")\n",
    "#df[\"present_price\"] = df[\"present_price\"].str.replace(r'\\W',\"\")"
   ]
  },
  {
   "cell_type": "code",
   "execution_count": 18,
   "id": "34c1c365-57be-49a7-b476-9aa17be51da3",
   "metadata": {},
   "outputs": [],
   "source": [
    "#df.head(10)"
   ]
  },
  {
   "cell_type": "code",
   "execution_count": 19,
   "id": "bff49d13-7049-4251-ac2d-c3d0a1f2ecc1",
   "metadata": {},
   "outputs": [],
   "source": [
    "#df.to_csv(\"Jumia_test2.csv\", index=False)"
   ]
  },
  {
   "cell_type": "code",
   "execution_count": null,
   "id": "8a65a2ff-06e8-408a-a408-fd61568af32d",
   "metadata": {},
   "outputs": [],
   "source": []
  }
 ],
 "metadata": {
  "kernelspec": {
   "display_name": "Python 3",
   "language": "python",
   "name": "python3"
  },
  "language_info": {
   "codemirror_mode": {
    "name": "ipython",
    "version": 3
   },
   "file_extension": ".py",
   "mimetype": "text/x-python",
   "name": "python",
   "nbconvert_exporter": "python",
   "pygments_lexer": "ipython3",
   "version": "3.8.8"
  }
 },
 "nbformat": 4,
 "nbformat_minor": 5
}
